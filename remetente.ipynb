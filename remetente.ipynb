{
 "cells": [
  {
   "cell_type": "code",
   "execution_count": 1,
   "id": "563e3aa4",
   "metadata": {},
   "outputs": [],
   "source": [
    "import pika as pk"
   ]
  },
  {
   "cell_type": "code",
   "execution_count": 3,
   "id": "1b00bad1",
   "metadata": {},
   "outputs": [],
   "source": [
    "exchange_name = 'mtu'\n",
    "queue_name = \"fila_mtu\"\n",
    "mtu_routing_key = 'chave_mtu'"
   ]
  },
  {
   "cell_type": "code",
   "execution_count": 11,
   "id": "f8261680",
   "metadata": {},
   "outputs": [
    {
     "name": "stdout",
     "output_type": "stream",
     "text": [
      "Conectou ao rabbitmq\n"
     ]
    }
   ],
   "source": [
    "ip_container = 'localhost'\n",
    "conn = pk.BlockingConnection(pk.ConnectionParameters(host=ip_container))\n",
    "channel = conn.channel()\n",
    "print(\"Conectou ao rabbitmq\")"
   ]
  },
  {
   "cell_type": "code",
   "execution_count": 12,
   "id": "bace002f",
   "metadata": {},
   "outputs": [],
   "source": [
    "my_tag= mtu_routing_key #routing_key\n",
    "message= 'exemplo 2 RabbitMQ'"
   ]
  },
  {
   "cell_type": "code",
   "execution_count": 13,
   "id": "39351efb",
   "metadata": {},
   "outputs": [],
   "source": [
    "channel.basic_publish(exchange=exchange_name, routing_key=my_tag, body=message)\n",
    "conn.close()"
   ]
  },
  {
   "cell_type": "code",
   "execution_count": null,
   "id": "407bd5ec",
   "metadata": {},
   "outputs": [],
   "source": []
  }
 ],
 "metadata": {
  "kernelspec": {
   "display_name": "Python 3 (ipykernel)",
   "language": "python",
   "name": "python3"
  },
  "language_info": {
   "codemirror_mode": {
    "name": "ipython",
    "version": 3
   },
   "file_extension": ".py",
   "mimetype": "text/x-python",
   "name": "python",
   "nbconvert_exporter": "python",
   "pygments_lexer": "ipython3",
   "version": "3.9.7"
  }
 },
 "nbformat": 4,
 "nbformat_minor": 5
}
