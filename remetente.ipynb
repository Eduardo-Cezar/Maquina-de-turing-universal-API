{
 "cells": [
  {
   "cell_type": "code",
   "execution_count": 9,
   "id": "ccd8cc0f",
   "metadata": {},
   "outputs": [],
   "source": [
    "import pika as pk"
   ]
  },
  {
   "cell_type": "code",
   "execution_count": 10,
   "id": "4f1407ba",
   "metadata": {},
   "outputs": [],
   "source": [
    "exchange_name = 'mtu'\n",
    "queue_name = \"fila_mtu\"\n",
    "mtu_routing_key = 'chave_mtu'"
   ]
  },
  {
   "cell_type": "code",
   "execution_count": 15,
   "id": "015f7a84",
   "metadata": {},
   "outputs": [
    {
     "name": "stdout",
     "output_type": "stream",
     "text": [
      "Conectou ao rabbitmq\n"
     ]
    }
   ],
   "source": [
    "ip_container = 'localhost'\n",
    "conn = pk.BlockingConnection(pk.ConnectionParameters(host=ip_container))\n",
    "channel = conn.channel()\n",
    "print(\"Conectou ao rabbitmq\")"
   ]
  },
  {
   "cell_type": "code",
   "execution_count": 16,
   "id": "e0fbc94b",
   "metadata": {},
   "outputs": [],
   "source": [
    "my_tag= mtu_routing_key #routing_key\n",
    "message= 'ola RabbitMQ 2'"
   ]
  },
  {
   "cell_type": "code",
   "execution_count": 17,
   "id": "7e79eab0",
   "metadata": {},
   "outputs": [],
   "source": [
    "channel.basic_publish(exchange=exchange_name, routing_key=my_tag, body=message)\n",
    "conn.close()"
   ]
  },
  {
   "cell_type": "code",
   "execution_count": null,
   "id": "8a5bfe93",
   "metadata": {},
   "outputs": [],
   "source": []
  }
 ],
 "metadata": {
  "kernelspec": {
   "display_name": "Python 3 (ipykernel)",
   "language": "python",
   "name": "python3"
  },
  "language_info": {
   "codemirror_mode": {
    "name": "ipython",
    "version": 3
   },
   "file_extension": ".py",
   "mimetype": "text/x-python",
   "name": "python",
   "nbconvert_exporter": "python",
   "pygments_lexer": "ipython3",
   "version": "3.9.13"
  }
 },
 "nbformat": 4,
 "nbformat_minor": 5
}
