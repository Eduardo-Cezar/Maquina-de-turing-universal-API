{
 "cells": [
  {
   "cell_type": "code",
   "execution_count": 1,
   "id": "68a67bae",
   "metadata": {},
   "outputs": [
    {
     "name": "stdout",
     "output_type": "stream",
     "text": [
      "Collecting pika\n",
      "  Downloading pika-1.3.2-py3-none-any.whl (155 kB)\n",
      "Installing collected packages: pika\n",
      "Successfully installed pika-1.3.2\n"
     ]
    }
   ],
   "source": [
    "!pip install pika --upgrade"
   ]
  },
  {
   "cell_type": "code",
   "execution_count": 14,
   "id": "81bcb3e8",
   "metadata": {},
   "outputs": [],
   "source": [
    "import pika as pk"
   ]
  },
  {
   "cell_type": "code",
   "execution_count": 43,
   "id": "d22fd601",
   "metadata": {},
   "outputs": [],
   "source": [
    "exchange_name = 'mtu'\n",
    "queue_name = \"fila_mtu\"\n",
    "mtu_routing_key = 'chave_mtu'"
   ]
  },
  {
   "cell_type": "code",
   "execution_count": 44,
   "id": "cbaa5695",
   "metadata": {},
   "outputs": [],
   "source": [
    "# Ip do container d_rabbitmq\n",
    "# obs: para conseguir o IP do container deve-se executar os passos\n",
    "# 1º $ docker ps\n",
    "#    - Copiar o id do container\n",
    "# 2º $ docker inspect id_do_container\n",
    "#    - Procurar por \"IPAddress\" (geralmente é informado no final do output)\n",
    "ip_container = 'localhost'"
   ]
  },
  {
   "cell_type": "code",
   "execution_count": 45,
   "id": "50574d64",
   "metadata": {},
   "outputs": [
    {
     "name": "stdout",
     "output_type": "stream",
     "text": [
      "Conectou ao rabbitmq\n"
     ]
    }
   ],
   "source": [
    "conn = pk.BlockingConnection(pk.ConnectionParameters(host=ip_container))\n",
    "channel = conn.channel()\n",
    "print(\"Conectou ao rabbitmq\")"
   ]
  },
  {
   "cell_type": "code",
   "execution_count": 46,
   "id": "148211b1",
   "metadata": {},
   "outputs": [
    {
     "name": "stdout",
     "output_type": "stream",
     "text": [
      "Criou a exchange\n"
     ]
    }
   ],
   "source": [
    "#Criar Exchange\n",
    "channel.exchange_declare(exchange=exchange_name, exchange_type='direct')\n",
    "print(\"Criou a exchange\")"
   ]
  },
  {
   "cell_type": "code",
   "execution_count": 47,
   "id": "ac362035",
   "metadata": {},
   "outputs": [
    {
     "name": "stdout",
     "output_type": "stream",
     "text": [
      "Criou a fila 'fila_mtu'\n"
     ]
    }
   ],
   "source": [
    "#Criar filas\n",
    "channel.queue_declare(queue=queue_name, exclusive=True)\n",
    "print(\"Criou a fila '\" + queue_name +\"'\")"
   ]
  },
  {
   "cell_type": "code",
   "execution_count": 48,
   "id": "e241aeb4",
   "metadata": {},
   "outputs": [
    {
     "data": {
      "text/plain": [
       "<METHOD(['channel_number=1', 'frame_type=1', 'method=<Queue.BindOk>'])>"
      ]
     },
     "execution_count": 48,
     "metadata": {},
     "output_type": "execute_result"
    }
   ],
   "source": [
    "# Bind - ligar as mensagens com a fila\n",
    "channel.queue_bind(exchange=exchange_name, queue=queue_name, routing_key=mtu_routing_key)"
   ]
  },
  {
   "cell_type": "code",
   "execution_count": null,
   "id": "11754288",
   "metadata": {},
   "outputs": [
    {
     "name": "stdout",
     "output_type": "stream",
     "text": [
      "b'exemplo RabbitMQ'\n",
      "b'exemplo 2 RabbitMQ'\n"
     ]
    }
   ],
   "source": [
    "#Consumir a fila\n",
    "def callback(ch, method, properties, body):\n",
    "    print(body)\n",
    "channel.basic_consume(queue=queue_name, on_message_callback=callback, auto_ack=True)\n",
    "\n",
    "channel.start_consuming()\n",
    "\n"
   ]
  },
  {
   "cell_type": "code",
   "execution_count": null,
   "id": "16464bc1",
   "metadata": {},
   "outputs": [],
   "source": []
  },
  {
   "cell_type": "code",
   "execution_count": null,
   "id": "0e5a8e53",
   "metadata": {},
   "outputs": [],
   "source": []
  }
 ],
 "metadata": {
  "kernelspec": {
   "display_name": "Python 3 (ipykernel)",
   "language": "python",
   "name": "python3"
  },
  "language_info": {
   "codemirror_mode": {
    "name": "ipython",
    "version": 3
   },
   "file_extension": ".py",
   "mimetype": "text/x-python",
   "name": "python",
   "nbconvert_exporter": "python",
   "pygments_lexer": "ipython3",
   "version": "3.9.7"
  }
 },
 "nbformat": 4,
 "nbformat_minor": 5
}
