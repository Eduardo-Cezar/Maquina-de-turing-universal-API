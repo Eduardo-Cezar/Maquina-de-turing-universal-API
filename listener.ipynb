{
 "cells": [
  {
   "cell_type": "code",
   "execution_count": 1,
   "id": "ca3eb998",
   "metadata": {},
   "outputs": [
    {
     "name": "stdout",
     "output_type": "stream",
     "text": [
      "Collecting pika\n",
      "  Downloading pika-1.3.2-py3-none-any.whl (155 kB)\n",
      "Installing collected packages: pika\n",
      "Successfully installed pika-1.3.2\n"
     ]
    }
   ],
   "source": [
    "!pip install pika --upgrade"
   ]
  },
  {
   "cell_type": "code",
   "execution_count": 80,
   "id": "4f255e01",
   "metadata": {},
   "outputs": [],
   "source": [
    "import pika as pk"
   ]
  },
  {
   "cell_type": "code",
   "execution_count": 81,
   "id": "1e0940da",
   "metadata": {},
   "outputs": [],
   "source": [
    "exchange_name = 'mtu'\n",
    "queue_name = \"fila_mtu\"\n",
    "mtu_routing_key = 'chave_mtu'"
   ]
  },
  {
   "cell_type": "code",
   "execution_count": 82,
   "id": "88cb4a3b",
   "metadata": {},
   "outputs": [],
   "source": [
    "# Ip do container d_rabbitmq\n",
    "# obs: para conseguir o IP do container deve-se executar os passos\n",
    "# 1º $ docker ps\n",
    "#    - Copiar o id do container\n",
    "# 2º $ docker inspect id_do_container\n",
    "#    - Procurar por \"IPAddress\" (geralmente é informado no final do output)\n",
    "ip_container = 'localhost'"
   ]
  },
  {
   "cell_type": "code",
   "execution_count": 83,
   "id": "c84dcd86",
   "metadata": {},
   "outputs": [
    {
     "name": "stdout",
     "output_type": "stream",
     "text": [
      "Conectou ao rabbitmq\n"
     ]
    }
   ],
   "source": [
    "conn = pk.BlockingConnection(pk.ConnectionParameters(host=ip_container))\n",
    "channel = conn.channel()\n",
    "print(\"Conectou ao rabbitmq\")"
   ]
  },
  {
   "cell_type": "code",
   "execution_count": 84,
   "id": "2f21268d",
   "metadata": {},
   "outputs": [
    {
     "name": "stdout",
     "output_type": "stream",
     "text": [
      "Criou a exchange\n"
     ]
    }
   ],
   "source": [
    "#Criar Exchange\n",
    "channel.exchange_declare(exchange=exchange_name, exchange_type='direct')\n",
    "print(\"Criou a exchange\")"
   ]
  },
  {
   "cell_type": "code",
   "execution_count": 85,
   "id": "a2b50730",
   "metadata": {},
   "outputs": [
    {
     "name": "stdout",
     "output_type": "stream",
     "text": [
      "Criou a fila 'fila_mtu'\n"
     ]
    }
   ],
   "source": [
    "#Criar filas\n",
    "channel.queue_declare(queue=queue_name, exclusive=True)\n",
    "print(\"Criou a fila '\" + queue_name +\"'\")"
   ]
  },
  {
   "cell_type": "code",
   "execution_count": 86,
   "id": "3a07ccea",
   "metadata": {},
   "outputs": [
    {
     "data": {
      "text/plain": [
       "<METHOD(['channel_number=1', 'frame_type=1', 'method=<Queue.BindOk>'])>"
      ]
     },
     "execution_count": 86,
     "metadata": {},
     "output_type": "execute_result"
    }
   ],
   "source": [
    "# Bind - ligar as mensagens com a fila\n",
    "channel.queue_bind(exchange=exchange_name, queue=queue_name, routing_key=mtu_routing_key)"
   ]
  },
  {
   "cell_type": "code",
   "execution_count": null,
   "id": "15e6c0f3",
   "metadata": {},
   "outputs": [
    {
     "name": "stdout",
     "output_type": "stream",
     "text": [
      "b'exemplo 2 RabbitMQ'\n",
      "b'exemplo kj RabbitMQ'\n"
     ]
    }
   ],
   "source": [
    "#Consumir a fila\n",
    "def callback(ch, method, properties, body):\n",
    "    print(body)\n",
    "channel.basic_consume(queue=queue_name, on_message_callback=callback, auto_ack=True)\n",
    "\n",
    "channel.start_consuming()\n",
    "\n"
   ]
  },
  {
   "cell_type": "code",
   "execution_count": 71,
   "id": "7d3b3643",
   "metadata": {},
   "outputs": [
    {
     "name": "stdout",
     "output_type": "stream",
     "text": [
      "Requirement already satisfied: fastapi in c:\\users\\55359\\anaconda3\\lib\\site-packages (0.100.0)\n",
      "Requirement already satisfied: fastapi-mail in c:\\users\\55359\\anaconda3\\lib\\site-packages (1.4.1)\n",
      "Collecting uvicorn\n",
      "  Downloading uvicorn-0.23.1-py3-none-any.whl (59 kB)\n",
      "Requirement already satisfied: python-dotenv in c:\\users\\55359\\anaconda3\\lib\\site-packages (1.0.0)\n",
      "Requirement already satisfied: pydantic!=1.8,!=1.8.1,!=2.0.0,!=2.0.1,<3.0.0,>=1.7.4 in c:\\users\\55359\\anaconda3\\lib\\site-packages (from fastapi) (2.1.1)\n",
      "Requirement already satisfied: typing-extensions>=4.5.0 in c:\\users\\55359\\anaconda3\\lib\\site-packages (from fastapi) (4.7.1)\n",
      "Requirement already satisfied: starlette<0.28.0,>=0.27.0 in c:\\users\\55359\\anaconda3\\lib\\site-packages (from fastapi) (0.27.0)\n",
      "Requirement already satisfied: pydantic_settings<3.0,>=2.0 in c:\\users\\55359\\anaconda3\\lib\\site-packages (from fastapi-mail) (2.0.2)\n",
      "Requirement already satisfied: Jinja2<4.0,>=3.0 in c:\\users\\55359\\anaconda3\\lib\\site-packages (from fastapi-mail) (3.1.2)\n",
      "Requirement already satisfied: blinker<2.0,>=1.5 in c:\\users\\55359\\anaconda3\\lib\\site-packages (from fastapi-mail) (1.6.2)\n",
      "Requirement already satisfied: email-validator<3.0,>=2.0 in c:\\users\\55359\\anaconda3\\lib\\site-packages (from fastapi-mail) (2.0.0.post2)\n",
      "Requirement already satisfied: aiosmtplib<3.0,>=2.0 in c:\\users\\55359\\anaconda3\\lib\\site-packages (from fastapi-mail) (2.0.2)\n",
      "Requirement already satisfied: h11>=0.8 in c:\\users\\55359\\anaconda3\\lib\\site-packages (from uvicorn) (0.13.0)\n",
      "Requirement already satisfied: click>=7.0 in c:\\users\\55359\\anaconda3\\lib\\site-packages (from uvicorn) (8.0.3)\n",
      "Requirement already satisfied: colorama in c:\\users\\55359\\anaconda3\\lib\\site-packages (from click>=7.0->uvicorn) (0.4.4)\n",
      "Requirement already satisfied: idna>=2.0.0 in c:\\users\\55359\\anaconda3\\lib\\site-packages (from email-validator<3.0,>=2.0->fastapi-mail) (3.2)\n",
      "Requirement already satisfied: dnspython>=2.0.0 in c:\\users\\55359\\anaconda3\\lib\\site-packages (from email-validator<3.0,>=2.0->fastapi-mail) (2.4.0)\n",
      "Requirement already satisfied: sniffio<2.0,>=1.1 in c:\\users\\55359\\anaconda3\\lib\\site-packages (from dnspython>=2.0.0->email-validator<3.0,>=2.0->fastapi-mail) (1.2.0)\n",
      "Requirement already satisfied: httpcore>=0.17.3 in c:\\users\\55359\\anaconda3\\lib\\site-packages (from dnspython>=2.0.0->email-validator<3.0,>=2.0->fastapi-mail) (0.17.3)\n",
      "Requirement already satisfied: anyio<5.0,>=3.0 in c:\\users\\55359\\anaconda3\\lib\\site-packages (from httpcore>=0.17.3->dnspython>=2.0.0->email-validator<3.0,>=2.0->fastapi-mail) (3.7.1)\n",
      "Requirement already satisfied: certifi in c:\\users\\55359\\anaconda3\\lib\\site-packages (from httpcore>=0.17.3->dnspython>=2.0.0->email-validator<3.0,>=2.0->fastapi-mail) (2021.10.8)\n",
      "Requirement already satisfied: exceptiongroup in c:\\users\\55359\\anaconda3\\lib\\site-packages (from anyio<5.0,>=3.0->httpcore>=0.17.3->dnspython>=2.0.0->email-validator<3.0,>=2.0->fastapi-mail) (1.1.2)\n",
      "Requirement already satisfied: MarkupSafe>=2.0 in c:\\users\\55359\\anaconda3\\lib\\site-packages (from Jinja2<4.0,>=3.0->fastapi-mail) (2.1.3)\n",
      "Requirement already satisfied: pydantic-core==2.4.0 in c:\\users\\55359\\anaconda3\\lib\\site-packages (from pydantic!=1.8,!=1.8.1,!=2.0.0,!=2.0.1,<3.0.0,>=1.7.4->fastapi) (2.4.0)\n",
      "Requirement already satisfied: annotated-types>=0.4.0 in c:\\users\\55359\\anaconda3\\lib\\site-packages (from pydantic!=1.8,!=1.8.1,!=2.0.0,!=2.0.1,<3.0.0,>=1.7.4->fastapi) (0.5.0)\n",
      "Installing collected packages: uvicorn\n",
      "Successfully installed uvicorn-0.23.1\n"
     ]
    }
   ],
   "source": [
    "!pip install fastapi fastapi-mail uvicorn python-dotenv"
   ]
  },
  {
   "cell_type": "code",
   "execution_count": 76,
   "id": "9f9fc366",
   "metadata": {},
   "outputs": [
    {
     "ename": "TypeError",
     "evalue": "Interval() takes no arguments",
     "output_type": "error",
     "traceback": [
      "\u001b[1;31m---------------------------------------------------------------------------\u001b[0m",
      "\u001b[1;31mTypeError\u001b[0m                                 Traceback (most recent call last)",
      "\u001b[1;32m~\\AppData\\Local\\Temp/ipykernel_27788/3188167620.py\u001b[0m in \u001b[0;36m<module>\u001b[1;34m\u001b[0m\n\u001b[0;32m      1\u001b[0m \u001b[1;32mfrom\u001b[0m \u001b[0mfastapi\u001b[0m \u001b[1;32mimport\u001b[0m \u001b[0mFastAPI\u001b[0m\u001b[1;33m,\u001b[0m \u001b[0mRequest\u001b[0m\u001b[1;33m,\u001b[0m \u001b[0mDepends\u001b[0m\u001b[1;33m\u001b[0m\u001b[1;33m\u001b[0m\u001b[0m\n\u001b[1;32m----> 2\u001b[1;33m \u001b[1;32mfrom\u001b[0m \u001b[0mfastapi_mail\u001b[0m \u001b[1;32mimport\u001b[0m \u001b[0mConnectionConfig\u001b[0m\u001b[1;33m\u001b[0m\u001b[1;33m\u001b[0m\u001b[0m\n\u001b[0m\u001b[0;32m      3\u001b[0m \u001b[1;32mfrom\u001b[0m \u001b[0mutil\u001b[0m\u001b[1;33m.\u001b[0m\u001b[0memail_body\u001b[0m \u001b[1;32mimport\u001b[0m \u001b[0mEmailSchema\u001b[0m\u001b[1;33m\u001b[0m\u001b[1;33m\u001b[0m\u001b[0m\n\u001b[0;32m      4\u001b[0m \u001b[1;33m\u001b[0m\u001b[0m\n\u001b[0;32m      5\u001b[0m conf = ConnectionConfig(\n",
      "\u001b[1;32m~\\anaconda3\\lib\\site-packages\\fastapi_mail\\__init__.py\u001b[0m in \u001b[0;36m<module>\u001b[1;34m\u001b[0m\n\u001b[1;32m----> 1\u001b[1;33m \u001b[1;32mfrom\u001b[0m \u001b[0mfastapi_mail\u001b[0m\u001b[1;33m.\u001b[0m\u001b[0mconfig\u001b[0m \u001b[1;32mimport\u001b[0m \u001b[0mConnectionConfig\u001b[0m\u001b[1;33m\u001b[0m\u001b[1;33m\u001b[0m\u001b[0m\n\u001b[0m\u001b[0;32m      2\u001b[0m \u001b[1;32mfrom\u001b[0m \u001b[0mfastapi_mail\u001b[0m\u001b[1;33m.\u001b[0m\u001b[0mfastmail\u001b[0m \u001b[1;32mimport\u001b[0m \u001b[0mFastMail\u001b[0m\u001b[1;33m\u001b[0m\u001b[1;33m\u001b[0m\u001b[0m\n\u001b[0;32m      3\u001b[0m \u001b[1;32mfrom\u001b[0m \u001b[0mfastapi_mail\u001b[0m\u001b[1;33m.\u001b[0m\u001b[0mschemas\u001b[0m \u001b[1;32mimport\u001b[0m \u001b[0mMessageSchema\u001b[0m\u001b[1;33m,\u001b[0m \u001b[0mMessageType\u001b[0m\u001b[1;33m,\u001b[0m \u001b[0mMultipartSubtypeEnum\u001b[0m\u001b[1;33m\u001b[0m\u001b[1;33m\u001b[0m\u001b[0m\n\u001b[0;32m      4\u001b[0m \u001b[1;33m\u001b[0m\u001b[0m\n\u001b[0;32m      5\u001b[0m \u001b[1;32mfrom\u001b[0m \u001b[1;33m.\u001b[0m \u001b[1;32mimport\u001b[0m \u001b[0memail_utils\u001b[0m\u001b[1;33m\u001b[0m\u001b[1;33m\u001b[0m\u001b[0m\n",
      "\u001b[1;32m~\\anaconda3\\lib\\site-packages\\fastapi_mail\\config.py\u001b[0m in \u001b[0;36m<module>\u001b[1;34m\u001b[0m\n\u001b[0;32m      7\u001b[0m \u001b[1;33m\u001b[0m\u001b[0m\n\u001b[0;32m      8\u001b[0m \u001b[1;33m\u001b[0m\u001b[0m\n\u001b[1;32m----> 9\u001b[1;33m \u001b[1;32mclass\u001b[0m \u001b[0mConnectionConfig\u001b[0m\u001b[1;33m(\u001b[0m\u001b[0mSettings\u001b[0m\u001b[1;33m)\u001b[0m\u001b[1;33m:\u001b[0m\u001b[1;33m\u001b[0m\u001b[1;33m\u001b[0m\u001b[0m\n\u001b[0m\u001b[0;32m     10\u001b[0m     \u001b[0mMAIL_USERNAME\u001b[0m\u001b[1;33m:\u001b[0m \u001b[0mstr\u001b[0m\u001b[1;33m\u001b[0m\u001b[1;33m\u001b[0m\u001b[0m\n\u001b[0;32m     11\u001b[0m     \u001b[0mMAIL_PASSWORD\u001b[0m\u001b[1;33m:\u001b[0m \u001b[0mstr\u001b[0m\u001b[1;33m\u001b[0m\u001b[1;33m\u001b[0m\u001b[0m\n",
      "\u001b[1;32m~\\anaconda3\\lib\\site-packages\\fastapi_mail\\config.py\u001b[0m in \u001b[0;36mConnectionConfig\u001b[1;34m()\u001b[0m\n\u001b[0;32m     14\u001b[0m     \u001b[0mMAIL_STARTTLS\u001b[0m\u001b[1;33m:\u001b[0m \u001b[0mbool\u001b[0m\u001b[1;33m\u001b[0m\u001b[1;33m\u001b[0m\u001b[0m\n\u001b[0;32m     15\u001b[0m     \u001b[0mMAIL_SSL_TLS\u001b[0m\u001b[1;33m:\u001b[0m \u001b[0mbool\u001b[0m\u001b[1;33m\u001b[0m\u001b[1;33m\u001b[0m\u001b[0m\n\u001b[1;32m---> 16\u001b[1;33m     \u001b[0mMAIL_DEBUG\u001b[0m\u001b[1;33m:\u001b[0m \u001b[0mconint\u001b[0m\u001b[1;33m(\u001b[0m\u001b[0mgt\u001b[0m\u001b[1;33m=\u001b[0m\u001b[1;33m-\u001b[0m\u001b[1;36m1\u001b[0m\u001b[1;33m,\u001b[0m \u001b[0mlt\u001b[0m\u001b[1;33m=\u001b[0m\u001b[1;36m2\u001b[0m\u001b[1;33m)\u001b[0m \u001b[1;33m=\u001b[0m \u001b[1;36m0\u001b[0m  \u001b[1;31m# type: ignore\u001b[0m\u001b[1;33m\u001b[0m\u001b[1;33m\u001b[0m\u001b[0m\n\u001b[0m\u001b[0;32m     17\u001b[0m     \u001b[0mMAIL_FROM\u001b[0m\u001b[1;33m:\u001b[0m \u001b[0mEmailStr\u001b[0m\u001b[1;33m\u001b[0m\u001b[1;33m\u001b[0m\u001b[0m\n\u001b[0;32m     18\u001b[0m     \u001b[0mMAIL_FROM_NAME\u001b[0m\u001b[1;33m:\u001b[0m \u001b[0mOptional\u001b[0m\u001b[1;33m[\u001b[0m\u001b[0mstr\u001b[0m\u001b[1;33m]\u001b[0m \u001b[1;33m=\u001b[0m \u001b[1;32mNone\u001b[0m\u001b[1;33m\u001b[0m\u001b[1;33m\u001b[0m\u001b[0m\n",
      "\u001b[1;32m~\\anaconda3\\lib\\site-packages\\pydantic\\types.py\u001b[0m in \u001b[0;36mconint\u001b[1;34m(strict, gt, ge, lt, le, multiple_of)\u001b[0m\n\u001b[0;32m    158\u001b[0m         \u001b[0mint\u001b[0m\u001b[1;33m,\u001b[0m\u001b[1;33m\u001b[0m\u001b[1;33m\u001b[0m\u001b[0m\n\u001b[0;32m    159\u001b[0m         \u001b[0mStrict\u001b[0m\u001b[1;33m(\u001b[0m\u001b[0mstrict\u001b[0m\u001b[1;33m)\u001b[0m \u001b[1;32mif\u001b[0m \u001b[0mstrict\u001b[0m \u001b[1;32mis\u001b[0m \u001b[1;32mnot\u001b[0m \u001b[1;32mNone\u001b[0m \u001b[1;32melse\u001b[0m \u001b[1;32mNone\u001b[0m\u001b[1;33m,\u001b[0m\u001b[1;33m\u001b[0m\u001b[1;33m\u001b[0m\u001b[0m\n\u001b[1;32m--> 160\u001b[1;33m         \u001b[0mannotated_types\u001b[0m\u001b[1;33m.\u001b[0m\u001b[0mInterval\u001b[0m\u001b[1;33m(\u001b[0m\u001b[0mgt\u001b[0m\u001b[1;33m=\u001b[0m\u001b[0mgt\u001b[0m\u001b[1;33m,\u001b[0m \u001b[0mge\u001b[0m\u001b[1;33m=\u001b[0m\u001b[0mge\u001b[0m\u001b[1;33m,\u001b[0m \u001b[0mlt\u001b[0m\u001b[1;33m=\u001b[0m\u001b[0mlt\u001b[0m\u001b[1;33m,\u001b[0m \u001b[0mle\u001b[0m\u001b[1;33m=\u001b[0m\u001b[0mle\u001b[0m\u001b[1;33m)\u001b[0m\u001b[1;33m,\u001b[0m\u001b[1;33m\u001b[0m\u001b[1;33m\u001b[0m\u001b[0m\n\u001b[0m\u001b[0;32m    161\u001b[0m         \u001b[0mannotated_types\u001b[0m\u001b[1;33m.\u001b[0m\u001b[0mMultipleOf\u001b[0m\u001b[1;33m(\u001b[0m\u001b[0mmultiple_of\u001b[0m\u001b[1;33m)\u001b[0m \u001b[1;32mif\u001b[0m \u001b[0mmultiple_of\u001b[0m \u001b[1;32mis\u001b[0m \u001b[1;32mnot\u001b[0m \u001b[1;32mNone\u001b[0m \u001b[1;32melse\u001b[0m \u001b[1;32mNone\u001b[0m\u001b[1;33m,\u001b[0m\u001b[1;33m\u001b[0m\u001b[1;33m\u001b[0m\u001b[0m\n\u001b[0;32m    162\u001b[0m     ]\n",
      "\u001b[1;31mTypeError\u001b[0m: Interval() takes no arguments"
     ]
    }
   ],
   "source": [
    "from fastapi import FastAPI, Request, Depends\n",
    "from fastapi_mail import ConnectionConfig\n",
    "from util.email_body import EmailSchema\n",
    "\n",
    "conf = ConnectionConfig(\n",
    "    MAIL_USERNAME=\"c4e2d9012d1cee\",\n",
    "    MAIL_PASSWORD=\"fdf5dd71ce3f67\",\n",
    "    MAIL_FROM=\"from@example.com\",\n",
    "    MAIL_PORT=587,\n",
    "    MAIL_SERVER=\"sandbox.smtp.mailtrap.io\",\n",
    "    MAIL_STARTTLS=False,\n",
    "    MAIL_SSL_TLS=False,\n",
    "    USE_CREDENTIALS=True,\n",
    "    VALIDATE_CERTS=True\n",
    ")"
   ]
  },
  {
   "cell_type": "code",
   "execution_count": 79,
   "id": "d26fc31a",
   "metadata": {},
   "outputs": [
    {
     "ename": "TypeError",
     "evalue": "Interval() takes no arguments",
     "output_type": "error",
     "traceback": [
      "\u001b[1;31m---------------------------------------------------------------------------\u001b[0m",
      "\u001b[1;31mTypeError\u001b[0m                                 Traceback (most recent call last)",
      "\u001b[1;32m~\\AppData\\Local\\Temp/ipykernel_27788/3107807043.py\u001b[0m in \u001b[0;36m<module>\u001b[1;34m\u001b[0m\n\u001b[0;32m      1\u001b[0m \u001b[1;32mfrom\u001b[0m \u001b[0mfastapi\u001b[0m \u001b[1;32mimport\u001b[0m \u001b[0mFastAPI\u001b[0m\u001b[1;33m\u001b[0m\u001b[1;33m\u001b[0m\u001b[0m\n\u001b[0;32m      2\u001b[0m \u001b[1;32mfrom\u001b[0m \u001b[0mstarlette\u001b[0m\u001b[1;33m.\u001b[0m\u001b[0mresponses\u001b[0m \u001b[1;32mimport\u001b[0m \u001b[0mJSONResponse\u001b[0m\u001b[1;33m\u001b[0m\u001b[1;33m\u001b[0m\u001b[0m\n\u001b[1;32m----> 3\u001b[1;33m \u001b[1;32mfrom\u001b[0m \u001b[0mfastapi_mail\u001b[0m \u001b[1;32mimport\u001b[0m \u001b[0mFastMail\u001b[0m\u001b[1;33m,\u001b[0m \u001b[0mMessageSchema\u001b[0m\u001b[1;33m,\u001b[0m \u001b[0mConnectionConfig\u001b[0m\u001b[1;33m,\u001b[0m \u001b[0mMessageType\u001b[0m\u001b[1;33m\u001b[0m\u001b[1;33m\u001b[0m\u001b[0m\n\u001b[0m\u001b[0;32m      4\u001b[0m \u001b[1;32mfrom\u001b[0m \u001b[0mpydantic\u001b[0m \u001b[1;32mimport\u001b[0m \u001b[0mEmailStr\u001b[0m\u001b[1;33m,\u001b[0m \u001b[0mBaseModel\u001b[0m\u001b[1;33m\u001b[0m\u001b[1;33m\u001b[0m\u001b[0m\n\u001b[0;32m      5\u001b[0m \u001b[1;32mfrom\u001b[0m \u001b[0mtyping\u001b[0m \u001b[1;32mimport\u001b[0m \u001b[0mList\u001b[0m\u001b[1;33m\u001b[0m\u001b[1;33m\u001b[0m\u001b[0m\n",
      "\u001b[1;32m~\\anaconda3\\lib\\site-packages\\fastapi_mail\\__init__.py\u001b[0m in \u001b[0;36m<module>\u001b[1;34m\u001b[0m\n\u001b[1;32m----> 1\u001b[1;33m \u001b[1;32mfrom\u001b[0m \u001b[0mfastapi_mail\u001b[0m\u001b[1;33m.\u001b[0m\u001b[0mconfig\u001b[0m \u001b[1;32mimport\u001b[0m \u001b[0mConnectionConfig\u001b[0m\u001b[1;33m\u001b[0m\u001b[1;33m\u001b[0m\u001b[0m\n\u001b[0m\u001b[0;32m      2\u001b[0m \u001b[1;32mfrom\u001b[0m \u001b[0mfastapi_mail\u001b[0m\u001b[1;33m.\u001b[0m\u001b[0mfastmail\u001b[0m \u001b[1;32mimport\u001b[0m \u001b[0mFastMail\u001b[0m\u001b[1;33m\u001b[0m\u001b[1;33m\u001b[0m\u001b[0m\n\u001b[0;32m      3\u001b[0m \u001b[1;32mfrom\u001b[0m \u001b[0mfastapi_mail\u001b[0m\u001b[1;33m.\u001b[0m\u001b[0mschemas\u001b[0m \u001b[1;32mimport\u001b[0m \u001b[0mMessageSchema\u001b[0m\u001b[1;33m,\u001b[0m \u001b[0mMessageType\u001b[0m\u001b[1;33m,\u001b[0m \u001b[0mMultipartSubtypeEnum\u001b[0m\u001b[1;33m\u001b[0m\u001b[1;33m\u001b[0m\u001b[0m\n\u001b[0;32m      4\u001b[0m \u001b[1;33m\u001b[0m\u001b[0m\n\u001b[0;32m      5\u001b[0m \u001b[1;32mfrom\u001b[0m \u001b[1;33m.\u001b[0m \u001b[1;32mimport\u001b[0m \u001b[0memail_utils\u001b[0m\u001b[1;33m\u001b[0m\u001b[1;33m\u001b[0m\u001b[0m\n",
      "\u001b[1;32m~\\anaconda3\\lib\\site-packages\\fastapi_mail\\config.py\u001b[0m in \u001b[0;36m<module>\u001b[1;34m\u001b[0m\n\u001b[0;32m      7\u001b[0m \u001b[1;33m\u001b[0m\u001b[0m\n\u001b[0;32m      8\u001b[0m \u001b[1;33m\u001b[0m\u001b[0m\n\u001b[1;32m----> 9\u001b[1;33m \u001b[1;32mclass\u001b[0m \u001b[0mConnectionConfig\u001b[0m\u001b[1;33m(\u001b[0m\u001b[0mSettings\u001b[0m\u001b[1;33m)\u001b[0m\u001b[1;33m:\u001b[0m\u001b[1;33m\u001b[0m\u001b[1;33m\u001b[0m\u001b[0m\n\u001b[0m\u001b[0;32m     10\u001b[0m     \u001b[0mMAIL_USERNAME\u001b[0m\u001b[1;33m:\u001b[0m \u001b[0mstr\u001b[0m\u001b[1;33m\u001b[0m\u001b[1;33m\u001b[0m\u001b[0m\n\u001b[0;32m     11\u001b[0m     \u001b[0mMAIL_PASSWORD\u001b[0m\u001b[1;33m:\u001b[0m \u001b[0mstr\u001b[0m\u001b[1;33m\u001b[0m\u001b[1;33m\u001b[0m\u001b[0m\n",
      "\u001b[1;32m~\\anaconda3\\lib\\site-packages\\fastapi_mail\\config.py\u001b[0m in \u001b[0;36mConnectionConfig\u001b[1;34m()\u001b[0m\n\u001b[0;32m     14\u001b[0m     \u001b[0mMAIL_STARTTLS\u001b[0m\u001b[1;33m:\u001b[0m \u001b[0mbool\u001b[0m\u001b[1;33m\u001b[0m\u001b[1;33m\u001b[0m\u001b[0m\n\u001b[0;32m     15\u001b[0m     \u001b[0mMAIL_SSL_TLS\u001b[0m\u001b[1;33m:\u001b[0m \u001b[0mbool\u001b[0m\u001b[1;33m\u001b[0m\u001b[1;33m\u001b[0m\u001b[0m\n\u001b[1;32m---> 16\u001b[1;33m     \u001b[0mMAIL_DEBUG\u001b[0m\u001b[1;33m:\u001b[0m \u001b[0mconint\u001b[0m\u001b[1;33m(\u001b[0m\u001b[0mgt\u001b[0m\u001b[1;33m=\u001b[0m\u001b[1;33m-\u001b[0m\u001b[1;36m1\u001b[0m\u001b[1;33m,\u001b[0m \u001b[0mlt\u001b[0m\u001b[1;33m=\u001b[0m\u001b[1;36m2\u001b[0m\u001b[1;33m)\u001b[0m \u001b[1;33m=\u001b[0m \u001b[1;36m0\u001b[0m  \u001b[1;31m# type: ignore\u001b[0m\u001b[1;33m\u001b[0m\u001b[1;33m\u001b[0m\u001b[0m\n\u001b[0m\u001b[0;32m     17\u001b[0m     \u001b[0mMAIL_FROM\u001b[0m\u001b[1;33m:\u001b[0m \u001b[0mEmailStr\u001b[0m\u001b[1;33m\u001b[0m\u001b[1;33m\u001b[0m\u001b[0m\n\u001b[0;32m     18\u001b[0m     \u001b[0mMAIL_FROM_NAME\u001b[0m\u001b[1;33m:\u001b[0m \u001b[0mOptional\u001b[0m\u001b[1;33m[\u001b[0m\u001b[0mstr\u001b[0m\u001b[1;33m]\u001b[0m \u001b[1;33m=\u001b[0m \u001b[1;32mNone\u001b[0m\u001b[1;33m\u001b[0m\u001b[1;33m\u001b[0m\u001b[0m\n",
      "\u001b[1;32m~\\anaconda3\\lib\\site-packages\\pydantic\\types.py\u001b[0m in \u001b[0;36mconint\u001b[1;34m(strict, gt, ge, lt, le, multiple_of)\u001b[0m\n\u001b[0;32m    158\u001b[0m         \u001b[0mint\u001b[0m\u001b[1;33m,\u001b[0m\u001b[1;33m\u001b[0m\u001b[1;33m\u001b[0m\u001b[0m\n\u001b[0;32m    159\u001b[0m         \u001b[0mStrict\u001b[0m\u001b[1;33m(\u001b[0m\u001b[0mstrict\u001b[0m\u001b[1;33m)\u001b[0m \u001b[1;32mif\u001b[0m \u001b[0mstrict\u001b[0m \u001b[1;32mis\u001b[0m \u001b[1;32mnot\u001b[0m \u001b[1;32mNone\u001b[0m \u001b[1;32melse\u001b[0m \u001b[1;32mNone\u001b[0m\u001b[1;33m,\u001b[0m\u001b[1;33m\u001b[0m\u001b[1;33m\u001b[0m\u001b[0m\n\u001b[1;32m--> 160\u001b[1;33m         \u001b[0mannotated_types\u001b[0m\u001b[1;33m.\u001b[0m\u001b[0mInterval\u001b[0m\u001b[1;33m(\u001b[0m\u001b[0mgt\u001b[0m\u001b[1;33m=\u001b[0m\u001b[0mgt\u001b[0m\u001b[1;33m,\u001b[0m \u001b[0mge\u001b[0m\u001b[1;33m=\u001b[0m\u001b[0mge\u001b[0m\u001b[1;33m,\u001b[0m \u001b[0mlt\u001b[0m\u001b[1;33m=\u001b[0m\u001b[0mlt\u001b[0m\u001b[1;33m,\u001b[0m \u001b[0mle\u001b[0m\u001b[1;33m=\u001b[0m\u001b[0mle\u001b[0m\u001b[1;33m)\u001b[0m\u001b[1;33m,\u001b[0m\u001b[1;33m\u001b[0m\u001b[1;33m\u001b[0m\u001b[0m\n\u001b[0m\u001b[0;32m    161\u001b[0m         \u001b[0mannotated_types\u001b[0m\u001b[1;33m.\u001b[0m\u001b[0mMultipleOf\u001b[0m\u001b[1;33m(\u001b[0m\u001b[0mmultiple_of\u001b[0m\u001b[1;33m)\u001b[0m \u001b[1;32mif\u001b[0m \u001b[0mmultiple_of\u001b[0m \u001b[1;32mis\u001b[0m \u001b[1;32mnot\u001b[0m \u001b[1;32mNone\u001b[0m \u001b[1;32melse\u001b[0m \u001b[1;32mNone\u001b[0m\u001b[1;33m,\u001b[0m\u001b[1;33m\u001b[0m\u001b[1;33m\u001b[0m\u001b[0m\n\u001b[0;32m    162\u001b[0m     ]\n",
      "\u001b[1;31mTypeError\u001b[0m: Interval() takes no arguments"
     ]
    }
   ],
   "source": [
    "from fastapi import FastAPI\n",
    "from starlette.responses import JSONResponse\n",
    "from fastapi_mail import FastMail, MessageSchema, ConnectionConfig, MessageType\n",
    "from pydantic import EmailStr, BaseModel\n",
    "from typing import List\n",
    "\n",
    "class EmailSchema(BaseModel):\n",
    "    email: List[EmailStr]\n",
    "\n",
    "\n",
    "conf = ConnectionConfig(\n",
    "    MAIL_USERNAME = \"c4e2d9012d1cee\",\n",
    "    MAIL_PASSWORD = \"fdf5dd71ce3f67\",\n",
    "    MAIL_FROM = \"from@example.com\",\n",
    "    MAIL_PORT = 587,\n",
    "    MAIL_SERVER = \"sandbox.smtp.mailtrap.io\",\n",
    "    MAIL_FROM_NAME=\"Desired Name\",\n",
    "    MAIL_STARTTLS = True,\n",
    "    MAIL_SSL_TLS = False,\n",
    "    USE_CREDENTIALS = True,\n",
    "    VALIDATE_CERTS = True\n",
    ")"
   ]
  },
  {
   "cell_type": "code",
   "execution_count": null,
   "id": "fb805461",
   "metadata": {},
   "outputs": [],
   "source": []
  }
 ],
 "metadata": {
  "kernelspec": {
   "display_name": "Python 3 (ipykernel)",
   "language": "python",
   "name": "python3"
  },
  "language_info": {
   "codemirror_mode": {
    "name": "ipython",
    "version": 3
   },
   "file_extension": ".py",
   "mimetype": "text/x-python",
   "name": "python",
   "nbconvert_exporter": "python",
   "pygments_lexer": "ipython3",
   "version": "3.9.7"
  }
 },
 "nbformat": 4,
 "nbformat_minor": 5
}
